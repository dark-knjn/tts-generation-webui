{
 "cells": [
  {
   "cell_type": "code",
   "execution_count": 1,
   "metadata": {},
   "outputs": [],
   "source": [
    "# #download example speakers ref files to copy the prosody from\n",
    "# !wget https://huggingface.co/Dubverse/MahaTTS/resolve/main/maha_tts/pretrained_models/infer_ref_wavs.zip\n",
    "# !unzip ./infer_ref_wavs.zip\n",
    "\n",
    "import torch, glob\n",
    "from maha_tts import load_models,infer_tts,config\n",
    "from scipy.io.wavfile import write\n",
    "from IPython.display import Audio,display\n",
    "\n",
    "# PATH TO THE SPEAKERS WAV FILES\n",
    "speaker =['./infer_ref_wavs/2272_152282_000019_000001/',\n",
    "          './infer_ref_wavs/2971_4275_000049_000000/',\n",
    "          './infer_ref_wavs/4807_26852_000062_000000/',\n",
    "          './infer_ref_wavs/6518_66470_000014_000002/']"
   ]
  },
  {
   "cell_type": "code",
   "execution_count": 7,
   "metadata": {},
   "outputs": [
    {
     "name": "stdout",
     "output_type": "stream",
     "text": [
      "Smolie-en 512 16 8 2048\n",
      "Using: cuda\n",
      "['./infer_ref_wavs/2272_152282_000019_000001\\\\2272_152282_000006_000000.wav', './infer_ref_wavs/2272_152282_000019_000001\\\\2272_152282_000014_000000.wav', './infer_ref_wavs/2272_152282_000019_000001\\\\2272_152282_000019_000001.wav', './infer_ref_wavs/2272_152282_000019_000001\\\\2272_152282_000040_000001.wav']\n"
     ]
    },
    {
     "name": "stderr",
     "output_type": "stream",
     "text": [
      " 24%|██▍       | 243/1000 [00:29<01:32,  8.15it/s]\n",
      "100%|██████████| 100/100 [02:33<00:00,  1.54s/it]\n"
     ]
    }
   ],
   "source": [
    "device = torch.device('cuda' if torch.cuda.is_available() else 'cpu')\n",
    "diff_model,ts_model,vocoder,diffuser = load_models('Smolie-en',device)\n",
    "print('Using:',device)\n",
    "\n",
    "speaker_num = 0 # @param [\"0\", \"1\", \"2\", \"3\"] {type:\"raw\"}\n",
    "# text = \"I freakin love how Elon came to life the moment they started talking about gaming and specifically diablo, you can tell that he didn't want that part of the discussion to end, while Lex to move on to the next subject! Once a true gamer, always a true gamer!\" # @param {type:\"string\"}\n",
    "text = \"I freakin love how Elon came to \" # @param {type:\"string\"}\n",
    "\n",
    "ref_clips = glob.glob(speaker[speaker_num]+'*.wav')\n",
    "audio,sr = infer_tts(text,ref_clips,diffuser,diff_model,ts_model,vocoder)\n",
    "\n",
    "write('./test.wav',sr,audio)"
   ]
  },
  {
   "cell_type": "code",
   "execution_count": null,
   "metadata": {},
   "outputs": [],
   "source": [
    "# SMOLIE-IN\n",
    "device = torch.device('cuda' if torch.cuda.is_available() else 'cpu')\n",
    "diff_model,ts_model,vocoder,diffuser = load_models('Smolie-in',device)\n",
    "print('Using:',device)\n",
    "\n",
    "speaker_num = 0 # @param [\"0\", \"1\", \"2\", \"3\"] {type:\"raw\"}\n",
    "text = \"शाम के समय, आसमान में बिखरी हुई रंग-बिरंगी रौशनी से सजा हुआ नगर दृश्य एक रोमांटिक माहौल बना रहा था।\" # @param {type:\"string\"}\n",
    "\n",
    "langauge = 'hindi' # ['hindi','english','tamil', 'telugu', 'punjabi', 'marathi', 'gujarati', 'bengali', 'assamese']\n",
    "language = torch.tensor(config.lang_index[langauge]).to(device).unsqueeze(0)\n",
    "\n",
    "ref_clips = glob.glob(speaker[speaker_num]+'*.wav')\n",
    "audio,sr = infer_tts(text,ref_clips,diffuser,diff_model,ts_model,vocoder,language)\n",
    "\n",
    "write('./test-in.wav',sr,audio)"
   ]
  }
 ],
 "metadata": {
  "kernelspec": {
   "display_name": "Python 3",
   "language": "python",
   "name": "python3"
  },
  "language_info": {
   "codemirror_mode": {
    "name": "ipython",
    "version": 3
   },
   "file_extension": ".py",
   "mimetype": "text/x-python",
   "name": "python",
   "nbconvert_exporter": "python",
   "pygments_lexer": "ipython3",
   "version": "3.10.12"
  }
 },
 "nbformat": 4,
 "nbformat_minor": 2
}
