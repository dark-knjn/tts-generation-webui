{
 "cells": [
  {
   "cell_type": "code",
   "execution_count": null,
   "metadata": {},
   "outputs": [],
   "source": [
    "from styletts2 import tts\n",
    "\n",
    "# No paths provided means default checkpoints/configs will be downloaded/cached.\n",
    "my_tts = tts.StyleTTS2()\n",
    "\n",
    "# Optionally create/write an output WAV file.\n",
    "out = my_tts.inference(\"Hello there, I am now a python package.\", output_wav_file=\"test.wav\")\n",
    "\n",
    "# Specific paths to a checkpoint and config can also be provided.\n",
    "# other_tts = tts.StyleTTS2(model_checkpoint_path='/PATH/TO/epochs_2nd_00020.pth', config_path='/PATH/TO/config.yml')\n",
    "\n",
    "# # Specify target voice to clone. When no target voice is provided, a default voice will be used.\n",
    "# other_tts.inference(\"Hello there, I am now a python package.\", target_voice_path=\"/PATH/TO/some_voice.wav\", output_wav_file=\"another_test.wav\")\n"
   ]
  }
 ],
 "metadata": {
  "kernelspec": {
   "display_name": "Python 3",
   "language": "python",
   "name": "python3"
  },
  "language_info": {
   "codemirror_mode": {
    "name": "ipython",
    "version": 3
   },
   "file_extension": ".py",
   "mimetype": "text/x-python",
   "name": "python",
   "nbconvert_exporter": "python",
   "pygments_lexer": "ipython3",
   "version": "3.10.12"
  }
 },
 "nbformat": 4,
 "nbformat_minor": 2
}
