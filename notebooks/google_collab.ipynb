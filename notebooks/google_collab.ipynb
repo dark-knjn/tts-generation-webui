{
  "cells": [
    {
      "cell_type": "code",
      "execution_count": null,
      "id": "Omt6xz6ljwIR",
      "metadata": {
        "colab": {
          "base_uri": "https://localhost:8080/"
        },
        "id": "Omt6xz6ljwIR",
        "outputId": "89fb352e-84a8-4d3e-b0dc-28ee9d9a3e6e"
      },
      "outputs": [],
      "source": [
        "!git clone https://github.com/rsxdalv/tts-generation-webui\n"
      ]
    },
    {
      "cell_type": "code",
      "execution_count": null,
      "id": "a66bf3c4",
      "metadata": {},
      "outputs": [],
      "source": [
        "import os\n",
        "os.chdir(\"./tts-generation-webui\")"
      ]
    },
    {
      "cell_type": "code",
      "execution_count": null,
      "id": "HULYvnXTjzZX",
      "metadata": {
        "colab": {
          "base_uri": "https://localhost:8080/"
        },
        "id": "HULYvnXTjzZX",
        "outputId": "56cd665f-a6b5-4565-ddbc-7c59053d4e4b"
      },
      "outputs": [],
      "source": [
        "# Run install/updates\n",
        "!git pull\n",
        "!pip install -r requirements.txt\n",
        "!python update.py"
      ]
    },
    {
      "cell_type": "code",
      "execution_count": null,
      "id": "203e8384",
      "metadata": {},
      "outputs": [],
      "source": [
        "# Fix for deepspeed for tortoise\n",
        "# pip uninstall deepspeed\n",
        "# pip install deepspeed==0.8.3"
      ]
    },
    {
      "cell_type": "code",
      "execution_count": null,
      "id": "7726b943",
      "metadata": {},
      "outputs": [],
      "source": [
        "# Fix torchvision for MusicGen \n",
        "# !pip install torchvision==0.15.0+cu117 --extra-index-url https://download.pytorch.org/whl/cu117"
      ]
    },
    {
      "cell_type": "code",
      "execution_count": null,
      "id": "r0FihjXLklZG",
      "metadata": {
        "colab": {
          "base_uri": "https://localhost:8080/"
        },
        "id": "r0FihjXLklZG",
        "outputId": "77b5030b-2d12-4c20-ab0d-970b53b9ac08"
      },
      "outputs": [],
      "source": [
        "!python server.py --share"
      ]
    }
  ],
  "metadata": {
    "colab": {
      "provenance": []
    },
    "kernelspec": {
      "display_name": "Python 3",
      "language": "python",
      "name": "python3"
    },
    "language_info": {
      "codemirror_mode": {
        "name": "ipython",
        "version": 3
      },
      "file_extension": ".py",
      "mimetype": "text/x-python",
      "name": "python",
      "nbconvert_exporter": "python",
      "pygments_lexer": "ipython3",
      "version": "3.10.11"
    }
  },
  "nbformat": 4,
  "nbformat_minor": 5
}
